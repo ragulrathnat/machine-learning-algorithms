{
 "cells": [
  {
   "cell_type": "code",
   "execution_count": 16,
   "metadata": {},
   "outputs": [],
   "source": [
    "import pandas as pd \n",
    "import numpy as np\n",
    " "
   ]
  },
  {
   "cell_type": "code",
   "execution_count": 17,
   "metadata": {},
   "outputs": [
    {
     "data": {
      "text/html": [
       "<div>\n",
       "<style scoped>\n",
       "    .dataframe tbody tr th:only-of-type {\n",
       "        vertical-align: middle;\n",
       "    }\n",
       "\n",
       "    .dataframe tbody tr th {\n",
       "        vertical-align: top;\n",
       "    }\n",
       "\n",
       "    .dataframe thead th {\n",
       "        text-align: right;\n",
       "    }\n",
       "</style>\n",
       "<table border=\"1\" class=\"dataframe\">\n",
       "  <thead>\n",
       "    <tr style=\"text-align: right;\">\n",
       "      <th></th>\n",
       "      <th>Age</th>\n",
       "      <th>Sex</th>\n",
       "      <th>BP</th>\n",
       "      <th>Cholesterol</th>\n",
       "      <th>Na_to_K</th>\n",
       "      <th>Drug</th>\n",
       "    </tr>\n",
       "  </thead>\n",
       "  <tbody>\n",
       "    <tr>\n",
       "      <th>0</th>\n",
       "      <td>23</td>\n",
       "      <td>F</td>\n",
       "      <td>HIGH</td>\n",
       "      <td>HIGH</td>\n",
       "      <td>25.355</td>\n",
       "      <td>drugY</td>\n",
       "    </tr>\n",
       "    <tr>\n",
       "      <th>1</th>\n",
       "      <td>47</td>\n",
       "      <td>M</td>\n",
       "      <td>LOW</td>\n",
       "      <td>HIGH</td>\n",
       "      <td>13.093</td>\n",
       "      <td>drugC</td>\n",
       "    </tr>\n",
       "    <tr>\n",
       "      <th>2</th>\n",
       "      <td>47</td>\n",
       "      <td>M</td>\n",
       "      <td>LOW</td>\n",
       "      <td>HIGH</td>\n",
       "      <td>10.114</td>\n",
       "      <td>drugC</td>\n",
       "    </tr>\n",
       "    <tr>\n",
       "      <th>3</th>\n",
       "      <td>28</td>\n",
       "      <td>F</td>\n",
       "      <td>NORMAL</td>\n",
       "      <td>HIGH</td>\n",
       "      <td>7.798</td>\n",
       "      <td>drugX</td>\n",
       "    </tr>\n",
       "    <tr>\n",
       "      <th>4</th>\n",
       "      <td>61</td>\n",
       "      <td>F</td>\n",
       "      <td>LOW</td>\n",
       "      <td>HIGH</td>\n",
       "      <td>18.043</td>\n",
       "      <td>drugY</td>\n",
       "    </tr>\n",
       "  </tbody>\n",
       "</table>\n",
       "</div>"
      ],
      "text/plain": [
       "   Age Sex      BP Cholesterol  Na_to_K   Drug\n",
       "0   23   F    HIGH        HIGH   25.355  drugY\n",
       "1   47   M     LOW        HIGH   13.093  drugC\n",
       "2   47   M     LOW        HIGH   10.114  drugC\n",
       "3   28   F  NORMAL        HIGH    7.798  drugX\n",
       "4   61   F     LOW        HIGH   18.043  drugY"
      ]
     },
     "execution_count": 17,
     "metadata": {},
     "output_type": "execute_result"
    }
   ],
   "source": [
    "df = pd.read_csv(\"drug200.csv\")\n",
    "df.head()"
   ]
  },
  {
   "cell_type": "code",
   "execution_count": 18,
   "metadata": {},
   "outputs": [
    {
     "data": {
      "text/plain": [
       "<matplotlib.collections.PathCollection at 0x24a9785f490>"
      ]
     },
     "execution_count": 18,
     "metadata": {},
     "output_type": "execute_result"
    },
    {
     "data": {
      "image/png": "[encoded data removed]",
      "text/plain": [
       "<Figure size 640x480 with 1 Axes>"
      ]
     },
     "metadata": {},
     "output_type": "display_data"
    }
   ],
   "source": [
    "import matplotlib.pyplot as plt\n",
    "plt.scatter(df['Na_to_K'],df['Drug']) "
   ]
  },
  {
   "cell_type": "code",
   "execution_count": 19,
   "metadata": {},
   "outputs": [
    {
     "data": {
      "text/plain": [
       "0      1\n",
       "1      2\n",
       "2      2\n",
       "3      1\n",
       "4      1\n",
       "      ..\n",
       "195    1\n",
       "196    2\n",
       "197    2\n",
       "198    2\n",
       "199    1\n",
       "Name: Sex, Length: 200, dtype: int64"
      ]
     },
     "execution_count": 19,
     "metadata": {},
     "output_type": "execute_result"
    }
   ],
   "source": [
    "val_sex = {\n",
    "    'F':1,\n",
    "    'M':2\n",
    "}\n",
    "df['Sex'] = df['Sex'].map(val_sex)\n",
    "df['Sex']"
   ]
  },
  {
   "cell_type": "code",
   "execution_count": 20,
   "metadata": {},
   "outputs": [
    {
     "data": {
      "text/plain": [
       "0      2\n",
       "1      0\n",
       "2      0\n",
       "3      1\n",
       "4      0\n",
       "      ..\n",
       "195    0\n",
       "196    0\n",
       "197    1\n",
       "198    1\n",
       "199    0\n",
       "Name: BP, Length: 200, dtype: int64"
      ]
     },
     "execution_count": 20,
     "metadata": {},
     "output_type": "execute_result"
    }
   ],
   "source": [
    "bp_values = {\n",
    "    'LOW' :0,\n",
    "    'NORMAL' :1,\n",
    "    'HIGH':2\n",
    "}\n",
    "df['BP']= df['BP'].map(bp_values)\n",
    "df['BP']"
   ]
  },
  {
   "cell_type": "code",
   "execution_count": 21,
   "metadata": {},
   "outputs": [
    {
     "data": {
      "text/plain": [
       "0      1\n",
       "1      1\n",
       "2      1\n",
       "3      1\n",
       "4      1\n",
       "      ..\n",
       "195    1\n",
       "196    1\n",
       "197    1\n",
       "198    0\n",
       "199    0\n",
       "Name: Cholesterol, Length: 200, dtype: int64"
      ]
     },
     "execution_count": 21,
     "metadata": {},
     "output_type": "execute_result"
    }
   ],
   "source": [
    "cholestrol_values = {\n",
    "    'NORMAL': 0,\n",
    "    'HIGH': 1\n",
    "}\n",
    "\n",
    "df['Cholesterol'] = df['Cholesterol'].map(cholestrol_values)\n",
    "df['Cholesterol']"
   ]
  },
  {
   "cell_type": "code",
   "execution_count": 22,
   "metadata": {},
   "outputs": [],
   "source": [
    "drug_values = {\n",
    "    'drugA': 0,\n",
    "    'drugB': 1,\n",
    "    'drugC': 2,\n",
    "    'drugX': 3,\n",
    "    'drugY': 4\n",
    "}\n",
    "\n",
    "df['Drug'] = df['Drug'].map(drug_values)"
   ]
  },
  {
   "cell_type": "code",
   "execution_count": 23,
   "metadata": {},
   "outputs": [
    {
     "data": {
      "text/plain": [
       "0      4\n",
       "1      2\n",
       "2      2\n",
       "3      3\n",
       "4      4\n",
       "      ..\n",
       "195    2\n",
       "196    2\n",
       "197    3\n",
       "198    3\n",
       "199    3\n",
       "Name: Drug, Length: 200, dtype: int64"
      ]
     },
     "execution_count": 23,
     "metadata": {},
     "output_type": "execute_result"
    }
   ],
   "source": [
    "df['Drug']"
   ]
  },
  {
   "cell_type": "code",
   "execution_count": 24,
   "metadata": {},
   "outputs": [],
   "source": [
    "y = df['Drug']\n",
    "df.drop(['Drug'],axis=1,inplace=True)"
   ]
  },
  {
   "cell_type": "code",
   "execution_count": 25,
   "metadata": {},
   "outputs": [
    {
     "data": {
      "text/plain": [
       "array([4, 2, 2, 3, 4, 3, 4, 2, 4, 4, 2, 4, 4, 4, 3, 4, 3, 0, 2, 4, 4, 4,\n",
       "       4, 4, 4, 4, 4, 3, 4, 4, 3, 1, 3, 4, 3, 3, 0, 3, 3, 3, 4, 1, 4, 3,\n",
       "       3, 3, 0, 2, 4, 4, 4, 3, 4, 4, 1, 2, 1, 4, 3, 4, 4, 0, 4, 3, 1, 4,\n",
       "       0, 3, 4, 4, 1, 4, 3, 4, 4, 4, 0, 4, 0, 3, 1, 3, 2, 0, 2, 1, 3, 4,\n",
       "       4, 4, 4, 4, 4, 4, 4, 3, 4, 4, 4, 4, 0, 0, 2, 3, 4, 3, 3, 4, 1, 4,\n",
       "       0, 3, 3, 3, 3, 4, 3, 3, 0, 4, 4, 4, 4, 4, 1, 4, 4, 3, 4, 3, 4, 4,\n",
       "       3, 4, 4, 3, 1, 0, 1, 3, 0, 4, 1, 4, 0, 3, 3, 0, 3, 2, 0, 1, 3, 3,\n",
       "       4, 2, 0, 4, 2, 3, 3, 1, 3, 4, 4, 4, 4, 3, 4, 0, 3, 3, 4, 4, 0, 4,\n",
       "       0, 4, 4, 4, 4, 3, 3, 4, 4, 4, 1, 0, 4, 4, 4, 0, 4, 2, 4, 2, 2, 3,\n",
       "       3, 3], dtype=int64)"
      ]
     },
     "execution_count": 25,
     "metadata": {},
     "output_type": "execute_result"
    }
   ],
   "source": [
    "y.values"
   ]
  },
  {
   "cell_type": "code",
   "execution_count": 26,
   "metadata": {},
   "outputs": [
    {
     "data": {
      "text/plain": [
       "Age            44.315000\n",
       "Sex             1.520000\n",
       "BP              1.065000\n",
       "Cholesterol     0.515000\n",
       "Na_to_K        16.084485\n",
       "dtype: float64"
      ]
     },
     "execution_count": 26,
     "metadata": {},
     "output_type": "execute_result"
    }
   ],
   "source": [
    "meanBycloumn = np.mean(df.T,axis=1)\n",
    "meanBycloumn"
   ]
  },
  {
   "cell_type": "code",
   "execution_count": 27,
   "metadata": {},
   "outputs": [
    {
     "data": {
      "text/html": [
       "<div>\n",
       "<style scoped>\n",
       "    .dataframe tbody tr th:only-of-type {\n",
       "        vertical-align: middle;\n",
       "    }\n",
       "\n",
       "    .dataframe tbody tr th {\n",
       "        vertical-align: top;\n",
       "    }\n",
       "\n",
       "    .dataframe thead th {\n",
       "        text-align: right;\n",
       "    }\n",
       "</style>\n",
       "<table border=\"1\" class=\"dataframe\">\n",
       "  <thead>\n",
       "    <tr style=\"text-align: right;\">\n",
       "      <th></th>\n",
       "      <th>Age</th>\n",
       "      <th>Sex</th>\n",
       "      <th>BP</th>\n",
       "      <th>Cholesterol</th>\n",
       "      <th>Na_to_K</th>\n",
       "    </tr>\n",
       "  </thead>\n",
       "  <tbody>\n",
       "    <tr>\n",
       "      <th>0</th>\n",
       "      <td>-21.315</td>\n",
       "      <td>-0.52</td>\n",
       "      <td>0.935</td>\n",
       "      <td>0.485</td>\n",
       "      <td>9.270515</td>\n",
       "    </tr>\n",
       "    <tr>\n",
       "      <th>1</th>\n",
       "      <td>2.685</td>\n",
       "      <td>0.48</td>\n",
       "      <td>-1.065</td>\n",
       "      <td>0.485</td>\n",
       "      <td>-2.991485</td>\n",
       "    </tr>\n",
       "    <tr>\n",
       "      <th>2</th>\n",
       "      <td>2.685</td>\n",
       "      <td>0.48</td>\n",
       "      <td>-1.065</td>\n",
       "      <td>0.485</td>\n",
       "      <td>-5.970485</td>\n",
       "    </tr>\n",
       "    <tr>\n",
       "      <th>3</th>\n",
       "      <td>-16.315</td>\n",
       "      <td>-0.52</td>\n",
       "      <td>-0.065</td>\n",
       "      <td>0.485</td>\n",
       "      <td>-8.286485</td>\n",
       "    </tr>\n",
       "    <tr>\n",
       "      <th>4</th>\n",
       "      <td>16.685</td>\n",
       "      <td>-0.52</td>\n",
       "      <td>-1.065</td>\n",
       "      <td>0.485</td>\n",
       "      <td>1.958515</td>\n",
       "    </tr>\n",
       "    <tr>\n",
       "      <th>...</th>\n",
       "      <td>...</td>\n",
       "      <td>...</td>\n",
       "      <td>...</td>\n",
       "      <td>...</td>\n",
       "      <td>...</td>\n",
       "    </tr>\n",
       "    <tr>\n",
       "      <th>195</th>\n",
       "      <td>11.685</td>\n",
       "      <td>-0.52</td>\n",
       "      <td>-1.065</td>\n",
       "      <td>0.485</td>\n",
       "      <td>-4.517485</td>\n",
       "    </tr>\n",
       "    <tr>\n",
       "      <th>196</th>\n",
       "      <td>-28.315</td>\n",
       "      <td>0.48</td>\n",
       "      <td>-1.065</td>\n",
       "      <td>0.485</td>\n",
       "      <td>-4.078485</td>\n",
       "    </tr>\n",
       "    <tr>\n",
       "      <th>197</th>\n",
       "      <td>7.685</td>\n",
       "      <td>0.48</td>\n",
       "      <td>-0.065</td>\n",
       "      <td>0.485</td>\n",
       "      <td>-6.190485</td>\n",
       "    </tr>\n",
       "    <tr>\n",
       "      <th>198</th>\n",
       "      <td>-21.315</td>\n",
       "      <td>0.48</td>\n",
       "      <td>-0.065</td>\n",
       "      <td>-0.515</td>\n",
       "      <td>-2.064485</td>\n",
       "    </tr>\n",
       "    <tr>\n",
       "      <th>199</th>\n",
       "      <td>-4.315</td>\n",
       "      <td>-0.52</td>\n",
       "      <td>-1.065</td>\n",
       "      <td>-0.515</td>\n",
       "      <td>-4.735485</td>\n",
       "    </tr>\n",
       "  </tbody>\n",
       "</table>\n",
       "<p>200 rows × 5 columns</p>\n",
       "</div>"
      ],
      "text/plain": [
       "        Age   Sex     BP  Cholesterol   Na_to_K\n",
       "0   -21.315 -0.52  0.935        0.485  9.270515\n",
       "1     2.685  0.48 -1.065        0.485 -2.991485\n",
       "2     2.685  0.48 -1.065        0.485 -5.970485\n",
       "3   -16.315 -0.52 -0.065        0.485 -8.286485\n",
       "4    16.685 -0.52 -1.065        0.485  1.958515\n",
       "..      ...   ...    ...          ...       ...\n",
       "195  11.685 -0.52 -1.065        0.485 -4.517485\n",
       "196 -28.315  0.48 -1.065        0.485 -4.078485\n",
       "197   7.685  0.48 -0.065        0.485 -6.190485\n",
       "198 -21.315  0.48 -0.065       -0.515 -2.064485\n",
       "199  -4.315 -0.52 -1.065       -0.515 -4.735485\n",
       "\n",
       "[200 rows x 5 columns]"
      ]
     },
     "execution_count": 27,
     "metadata": {},
     "output_type": "execute_result"
    }
   ],
   "source": [
    "scaled_Date = df - meanBycloumn\n",
    "scaled_Date "
   ]
  },
  {
   "cell_type": "code",
   "execution_count": 28,
   "metadata": {},
   "outputs": [
    {
     "data": {
      "text/plain": [
       "array([[ 2.73714347e+02,  8.45427136e-01, -1.67886935e+00,\n",
       "         5.65603015e-01, -7.54375153e+00],\n",
       "       [ 8.45427136e-01,  2.50854271e-01, -1.88944724e-02,\n",
       "         2.21105528e-03, -4.52298693e-01],\n",
       "       [-1.67886935e+00, -1.88944724e-02,  7.04296482e-01,\n",
       "        -1.35427136e-02,  2.23531131e-01],\n",
       "       [ 5.65603015e-01,  2.21105528e-03, -1.35427136e-02,\n",
       "         2.51030151e-01, -3.61957538e-02],\n",
       "       [-7.54375153e+00, -4.52298693e-01,  2.23531131e-01,\n",
       "        -3.61957538e-02,  5.21855335e+01]])"
      ]
     },
     "execution_count": 28,
     "metadata": {},
     "output_type": "execute_result"
    }
   ],
   "source": [
    "cov_mat = np.cov(scaled_Date.T)\n",
    "cov_mat"
   ]
  },
  {
   "cell_type": "code",
   "execution_count": 29,
   "metadata": {},
   "outputs": [
    {
     "name": "stdout",
     "output_type": "stream",
     "text": [
      "[2.73985211e+02 5.19329552e+01 6.93918132e-01 2.44350085e-01\n",
      " 2.49626833e-01]\n",
      "[[ 9.99395580e-01  3.40499564e-02 -6.17414584e-03 -2.68991143e-03\n",
      "   1.92874810e-03]\n",
      " [ 3.14325616e-03 -8.19034363e-03  2.71833243e-02  9.99587383e-01\n",
      "  -3.02794132e-03]\n",
      " [-6.16780346e-03  3.24792012e-03 -9.99351162e-01  2.71544118e-02\n",
      "  -2.26120130e-02]\n",
      " [ 2.06982712e-03 -3.28484169e-04  2.25077500e-02 -3.64968521e-03\n",
      "  -9.99737810e-01]\n",
      " [-3.40039595e-02  9.99381239e-01  3.68835855e-03  8.19423157e-03\n",
      "  -3.45643571e-04]]\n"
     ]
    }
   ],
   "source": [
    "from numpy.linalg import eig\n",
    "eval,evec = eig(cov_mat)\n",
    "print(eval)\n",
    "print(evec)"
   ]
  },
  {
   "cell_type": "code",
   "execution_count": 30,
   "metadata": {},
   "outputs": [
    {
     "data": {
      "text/plain": [
       "array([[-2.16237485e+01,  2.79418081e+00,  2.89547860e+00,\n",
       "        -1.60235953e+01,  1.66142561e+01, -2.20474780e+01,\n",
       "         4.67546031e+00, -3.13228053e+00,  1.57094953e+01,\n",
       "        -1.41884619e+00,  2.83612680e+00, -1.04231386e+01,\n",
       "        -1.28103255e+00,  2.95078211e+01,  5.79631803e+00,\n",
       "        -2.82870224e+01,  2.48345122e+01, -1.24562660e+00,\n",
       "        -2.09942602e+01, -1.26523066e+01,  1.25808529e+01,\n",
       "         1.83422755e+01,  2.19789179e+00,  3.72436344e+00,\n",
       "        -1.18939433e+01, -1.64062505e+01, -1.37958345e+01,\n",
       "         4.90781378e+00, -5.53277094e+00,  6.30198411e-01,\n",
       "        -2.60519927e+01,  2.98854238e+01,  4.86159637e+00,\n",
       "         2.01270562e+01,  8.74902236e+00,  1.98404259e+00,\n",
       "        -1.20871119e+01, -5.23178700e+00, -5.09729532e+00,\n",
       "        -2.90563237e+01,  2.85607786e+01,  1.37310150e+01,\n",
       "         5.69242124e+00, -2.11691556e+01,  5.80812182e+00,\n",
       "         2.19408597e+01, -7.21518585e+00,  2.38767671e+01,\n",
       "        -2.18297165e+01, -1.64254070e+01,  1.35570463e+01,\n",
       "         2.28484935e+01,  1.73039289e+01, -2.03918635e+01,\n",
       "         2.38626868e+01, -1.82325518e+01,  2.08285047e+01,\n",
       "        -4.71490419e+00,  1.58801656e+01, -1.04010595e+01,\n",
       "        -6.77624694e+00, -2.00832966e+01,  2.25215925e+01,\n",
       "         9.53920520e-01,  1.57637036e+01,  2.32955138e+01,\n",
       "        -1.51992163e+01, -2.71190413e+01,  9.39052627e+00,\n",
       "        -2.65861060e+01,  2.57382241e+01, -1.64274603e+01,\n",
       "        -2.01166267e+01, -3.54722041e+00, -1.33457536e+01,\n",
       "        -1.84609711e+01, -8.15021193e+00, -1.84170111e+01,\n",
       "        -2.52118552e+01, -1.21253551e+01,  1.57453904e+01,\n",
       "         1.99590470e+01, -1.20849288e+01, -6.15784311e+00,\n",
       "         2.89393353e+00,  1.47459608e+01,  6.76531407e+00,\n",
       "         2.46997841e+01, -7.55729527e+00,  5.64095835e+00,\n",
       "         1.76598988e+01, -3.28674827e+00, -1.57666213e+01,\n",
       "        -2.75812623e+00,  1.17233854e+01, -8.14448779e+00,\n",
       "         1.29290533e+01,  1.13549455e+01, -2.49705585e+01,\n",
       "        -2.93275288e+01, -1.31690011e+01,  7.88037730e-01,\n",
       "        -1.61986346e+01,  1.19229076e+01, -2.27220083e+01,\n",
       "        -7.06157849e+00, -2.21581120e+01, -2.43810449e+00,\n",
       "         2.78808224e+01, -2.13252338e+01,  5.97055612e+00,\n",
       "         3.00076530e+00, -9.06723844e+00,  2.07551015e+01,\n",
       "        -2.40712576e+01,  6.60253892e+00,  2.28955549e+01,\n",
       "        -4.10922747e+00, -1.21190565e+01,  1.63492030e+01,\n",
       "        -1.66755723e+01, -2.93407415e+01, -1.05225086e+01,\n",
       "        -8.33293612e+00,  8.79333996e+00, -2.56442791e+01,\n",
       "         2.16597123e+01, -9.02835100e+00,  2.09676401e+00,\n",
       "        -1.20150977e+01,  2.55194748e+01,  7.11482436e+00,\n",
       "         4.77373014e+00, -2.06296976e+01, -2.48836941e+00,\n",
       "         2.98150322e+01,  1.08458190e+01, -9.20727823e+00,\n",
       "         6.83686462e+00,  2.48745365e+01,  5.01060955e+00,\n",
       "         1.93486105e+01,  1.59239836e+01,  2.96837847e+01,\n",
       "        -5.09671986e+00,  1.69036656e+01, -7.16802577e+00,\n",
       "        -1.81839479e+01,  1.69761306e+01, -2.20226611e+01,\n",
       "         4.92794593e+00,  2.38400166e+01,  1.09794189e+01,\n",
       "         2.77211851e+01, -7.32531319e+00,  4.87988609e+00,\n",
       "        -1.31471025e+01,  8.45493520e+00,  1.48738610e+01,\n",
       "        -1.01973941e+01, -1.41147446e+01,  1.28776324e+01,\n",
       "        -1.20368222e+00, -2.37360405e+01, -2.84025870e+01,\n",
       "        -6.37726801e+00,  1.33235673e+01,  1.27406391e+01,\n",
       "         6.44957080e+00, -2.41427175e+01, -1.61963694e+01,\n",
       "         8.97915999e-01, -5.35286908e+00, -3.39939211e+00,\n",
       "        -2.20608323e+00,  2.85842962e+01,  3.86917943e+00,\n",
       "        -1.93999252e+01, -5.30494702e+00,  2.26776383e+01,\n",
       "        -2.25389459e+01,  1.47507196e+01, -2.41468694e+01,\n",
       "        -8.29822675e+00, -2.70230953e+01,  1.23415050e+01,\n",
       "         2.58782524e+01,  2.87331585e+00,  2.00240731e+01,\n",
       "         1.95029432e+01,  1.35746412e+01, -2.10308406e+01,\n",
       "         2.76696796e+01,  2.79941113e+01,  1.04505887e+00,\n",
       "         1.18374878e+01, -2.81501199e+01,  7.89376957e+00,\n",
       "        -2.12310724e+01, -4.14749843e+00],\n",
       "       [ 8.54614042e+00, -2.90575957e+00, -5.88291628e+00,\n",
       "        -8.83299414e+00,  2.52606730e+00, -8.22879446e+00,\n",
       "         3.53809712e-01, -5.16478714e+00, -3.83147999e-01,\n",
       "         3.22948637e+00, -4.22274875e+00,  2.76882751e+00,\n",
       "        -7.60372025e-01,  5.86592295e+00, -3.18193012e+00,\n",
       "        -1.52479281e+00, -3.79331851e+00, -2.15700744e+00,\n",
       "        -9.51437281e+00,  9.47153550e+00,  3.46633426e+00,\n",
       "         1.04583527e+01,  1.45587561e+01, -9.21721520e-01,\n",
       "         1.70061130e+01,  2.17476909e+00,  1.38182491e+01,\n",
       "        -6.53559607e+00,  6.42841703e+00,  1.88113458e+00,\n",
       "        -8.22175428e+00, -5.50373316e+00, -4.91504477e+00,\n",
       "         1.64935321e+01, -1.65885542e+00, -8.74063936e+00,\n",
       "        -7.05542735e+00, -2.33335359e+00, -6.54829859e+00,\n",
       "        -7.99862964e+00,  4.11518580e+00, -1.37090448e+00,\n",
       "        -1.04702092e-01, -4.55219518e+00, -3.58934918e+00,\n",
       "        -7.22995851e+00, -3.23357171e+00, -4.99097672e+00,\n",
       "         1.48617848e+01,  3.15433405e+00,  3.80256371e+00,\n",
       "        -4.41482586e+00,  1.16865999e+01,  1.68678707e+00,\n",
       "        -5.07789894e+00, -2.54627853e+00, -4.03795134e+00,\n",
       "         1.15862704e+01, -5.45967621e+00,  2.26461559e+00,\n",
       "         1.35679256e+01, -7.29784557e+00,  5.37086546e+00,\n",
       "        -7.69360859e+00, -2.23855389e+00,  1.17694202e+01,\n",
       "        -3.74901630e+00, -6.18328284e+00,  8.89368208e+00,\n",
       "         7.29788676e+00, -1.24265553e+00,  3.03665684e+00,\n",
       "        -6.16393083e+00,  6.70763616e+00,  5.29805261e-01,\n",
       "         4.19068360e+00, -5.15945035e+00,  2.45845138e+00,\n",
       "        -3.62460829e+00, -5.65959602e+00, -1.61613467e+00,\n",
       "        -7.65236316e+00, -6.78722654e+00, -4.96310116e+00,\n",
       "        -5.92169686e+00, -1.64918525e+00, -2.25443333e+00,\n",
       "         2.26863729e-01,  6.76056917e+00,  1.32360899e+00,\n",
       "         1.10707142e+00, -1.04151149e+00,  1.28429063e+01,\n",
       "         1.31004992e+01, -6.78499219e-01, -4.94794789e+00,\n",
       "         2.26154160e+01,  9.70976423e+00,  1.87137654e+01,\n",
       "        -3.50590845e-01, -4.66497842e+00, -3.19802541e+00,\n",
       "        -3.51053944e+00, -6.72050842e+00,  1.14414101e+01,\n",
       "        -7.36837826e+00, -4.89305517e+00,  3.83970883e+00,\n",
       "        -5.46157265e+00,  3.49647136e-02, -8.39664694e+00,\n",
       "        -9.30002657e+00, -7.23460316e+00, -1.60875981e+00,\n",
       "        -7.62298293e+00,  2.43571730e+00, -5.79796949e+00,\n",
       "        -6.12082091e+00, -6.20076110e+00,  9.95996451e+00,\n",
       "         1.04128945e+01,  1.21921188e-01,  6.01204546e+00,\n",
       "         3.88864511e-01, -3.28407514e+00,  9.02388916e+00,\n",
       "         9.99671997e-01, -8.55553539e+00,  1.75309159e+01,\n",
       "        -9.01759569e+00,  5.28025134e+00,  1.70815493e+01,\n",
       "        -2.33264365e+00,  8.99948543e+00,  4.87676202e+00,\n",
       "        -3.13936821e+00, -4.73336444e+00, -3.49854973e+00,\n",
       "        -4.51165259e+00, -5.17134866e+00, -9.65061291e+00,\n",
       "         1.03217824e+01, -6.92551871e+00,  3.61963823e-01,\n",
       "        -6.59854165e+00, -6.07355378e+00, -4.32406771e+00,\n",
       "        -4.39130764e+00, -8.16998162e+00, -8.69595057e+00,\n",
       "        -7.22111712e+00, -4.26692515e+00, -8.45817490e+00,\n",
       "        -4.97950290e-01,  3.82822632e-01, -5.39207810e+00,\n",
       "        -5.30857994e+00,  7.16243300e+00, -5.13633065e+00,\n",
       "        -3.50978499e+00, -6.12153085e+00, -5.69629748e+00,\n",
       "        -3.27223820e+00,  1.17533413e+01,  1.95585676e+00,\n",
       "         1.98657203e+00,  1.10205949e+01, -1.43151661e+00,\n",
       "         7.14282717e+00, -5.64028926e+00, -3.75513806e+00,\n",
       "        -6.04762769e+00,  9.63050809e-01,  2.54096600e+00,\n",
       "        -3.39598269e+00,  3.24597390e+00, -5.51024743e+00,\n",
       "         2.26272748e+00, -3.00690855e-01,  5.82946532e-01,\n",
       "         5.97698874e+00, -1.69521127e+00, -5.22271897e+00,\n",
       "        -8.69777591e-01,  2.02015688e+01,  1.02385866e+01,\n",
       "        -5.35810747e+00, -5.58759926e+00,  1.96044106e+01,\n",
       "         5.51406355e+00,  3.36963634e+00, -8.79531814e+00,\n",
       "         1.16049879e+00, -8.37459762e+00,  1.86545158e+01,\n",
       "        -4.11617539e+00, -5.04763563e+00, -5.92928245e+00,\n",
       "        -2.79295571e+00, -4.87851132e+00],\n",
       "       [-7.71817504e-01,  1.06066199e+00,  1.04967437e+00,\n",
       "         1.31906417e-01,  9.65297999e-01,  1.71935174e-01,\n",
       "         3.35155700e-02,  1.09012360e+00, -1.12886578e-02,\n",
       "         1.08599527e+00,  1.02858790e+00, -8.84946394e-01,\n",
       "         1.09377910e+00,  8.95726655e-01,  1.41666074e-02,\n",
       "        -7.87395993e-01,  8.96281501e-01, -9.10101682e-01,\n",
       "         1.18746745e+00, -8.47609473e-01,  9.98672026e-01,\n",
       "         9.82400576e-03,  1.10260831e+00,  1.03447100e+00,\n",
       "         1.19513340e+00, -8.49339978e-01, -7.75544982e-01,\n",
       "        -1.44197238e-02,  1.09578708e+00,  1.09092833e+00,\n",
       "         1.74651443e-01, -1.11774742e+00,  1.01813785e+00,\n",
       "        -1.02958759e+00,  2.81018469e-02,  2.35552384e-02,\n",
       "        -8.81391027e-01,  1.09066407e+00,  4.85315161e-02,\n",
       "         2.44096866e-01, -1.03798026e-01, -1.05142015e+00,\n",
       "         3.02281446e-02,  2.06417926e-01, -9.84599286e-03,\n",
       "        -1.24079172e-01, -9.03489575e-01,  9.20670147e-01,\n",
       "         2.78067980e-01,  1.17551050e+00, -1.00981777e+00,\n",
       "        -9.27757847e-02,  9.97511025e-01, -8.25941697e-01,\n",
       "        -1.12809946e+00,  1.16707121e+00, -1.07814840e+00,\n",
       "        -8.40480725e-01, -5.25332692e-02, -8.37084745e-01,\n",
       "         1.12843626e+00, -8.31887209e-01,  9.42702849e-01,\n",
       "         1.03308241e+00, -1.04471300e+00, -6.65588874e-02,\n",
       "        -8.27779848e-01,  2.15688075e-01,  6.07476749e-02,\n",
       "        -7.67434264e-01, -1.07682206e+00,  1.75713052e-01,\n",
       "         1.66956223e-01,  8.48548039e-02, -8.47096835e-01,\n",
       "         1.19663951e+00, -9.04297492e-01, -8.35693384e-01,\n",
       "        -7.91536134e-01,  1.09527323e+00, -1.01520232e+00,\n",
       "        -6.33159780e-02,  1.11362051e+00, -9.38681424e-01,\n",
       "         1.02231769e+00, -1.00902448e+00,  1.12898541e-02,\n",
       "         9.33627517e-01, -8.89113740e-01,  8.28597780e-03,\n",
       "        -1.83884152e-02, -9.15894124e-01, -7.93758551e-01,\n",
       "         1.10151191e+00,  1.01218370e+00,  1.09991397e+00,\n",
       "         1.05834003e+00, -9.75416782e-01, -7.10688413e-01,\n",
       "        -7.76762622e-01, -8.66268923e-01, -9.53756883e-01,\n",
       "         1.15091284e+00, -9.47833926e-03, -7.50127698e-01,\n",
       "         1.08468122e+00,  2.11459746e-01,  1.11705616e+00,\n",
       "        -1.12750116e+00,  2.23347492e-01, -9.77228643e-01,\n",
       "        -1.20226236e-02,  1.09777456e+00,  9.02329622e-01,\n",
       "         1.64261670e-01, -9.43550075e-01, -9.78804729e-02,\n",
       "         6.63183335e-02, -9.05450312e-01, -1.00599244e+00,\n",
       "         2.30149657e-01, -7.47805197e-01,  1.76108826e-01,\n",
       "         1.15542501e-01, -1.02698192e+00, -7.67364019e-01,\n",
       "        -1.04334718e+00,  9.35363234e-02,  1.11357748e+00,\n",
       "         1.06025871e-01, -8.05987496e-02,  1.08041997e+00,\n",
       "         1.02766857e+00,  2.50132518e-01, -9.05056296e-01,\n",
       "         8.67195937e-01, -1.02242139e+00, -8.91867890e-01,\n",
       "        -9.91699293e-01, -1.12872053e-01, -9.98065733e-01,\n",
       "         9.52660796e-01, -1.05730632e+00, -1.11860820e+00,\n",
       "        -9.01294547e-01, -3.85897214e-02,  1.06870313e+00,\n",
       "        -8.60973394e-01,  9.03313748e-01,  1.19678777e+00,\n",
       "        -9.89099333e-01, -1.07538393e+00, -3.21005947e-02,\n",
       "         8.62330538e-01,  1.11328813e+00,  1.03888625e+00,\n",
       "        -8.68644226e-01,  1.06002121e+00,  9.49618454e-01,\n",
       "         1.09060779e+00,  1.29313834e-01, -1.06108382e+00,\n",
       "         6.26365865e-02, -7.69890211e-01, -7.47336609e-01,\n",
       "         1.13541614e+00,  1.01554770e+00, -2.34719269e-02,\n",
       "         1.02282597e+00, -8.05275104e-01,  1.50646967e-01,\n",
       "         1.03915714e+00,  7.62532190e-02,  1.06884026e+00,\n",
       "        -9.30883447e-01, -1.10636912e+00, -9.76485313e-01,\n",
       "         2.18969743e-01,  1.21311715e-01, -7.90353847e-02,\n",
       "        -7.97508474e-01, -3.70447537e-02,  1.17248333e+00,\n",
       "        -9.10974807e-01, -6.97302428e-01, -2.91071408e-03,\n",
       "        -1.09201072e+00, -9.47962017e-01, -9.90892902e-01,\n",
       "        -1.03659552e+00, -9.84201998e-01, -8.08605071e-01,\n",
       "         9.18173794e-01,  8.82983165e-01, -8.79406785e-01,\n",
       "         9.72282919e-01,  1.24805127e+00,  1.86410408e-02,\n",
       "         1.90401687e-01,  1.04775744e+00],\n",
       "       [-3.62865953e-01,  4.17377065e-01,  3.92966449e-01,\n",
       "        -5.47336045e-01, -5.79307632e-01, -5.24567443e-01,\n",
       "        -5.34361684e-01,  4.16669194e-01,  4.26590242e-01,\n",
       "         4.83205199e-01, -5.93075869e-01, -4.39248983e-01,\n",
       "         4.46844141e-01, -5.90521403e-01, -5.66321391e-01,\n",
       "        -4.21009932e-01,  3.48426548e-01,  4.89648264e-01,\n",
       "         4.34449367e-01, -3.78353241e-01,  4.43579824e-01,\n",
       "         5.06575720e-01,  5.64220947e-01, -5.68978838e-01,\n",
       "        -3.77446594e-01, -4.26305265e-01,  6.56263433e-01,\n",
       "        -5.87203032e-01, -4.78343942e-01,  4.62564465e-01,\n",
       "        -5.08986337e-01,  3.70165420e-01,  3.98611120e-01,\n",
       "        -4.18757964e-01,  4.36914009e-01,  4.03278977e-01,\n",
       "         4.85791688e-01,  4.49470167e-01, -5.57616209e-01,\n",
       "         4.97757968e-01, -5.74779352e-01, -5.44450246e-01,\n",
       "         4.62211270e-01,  5.02263556e-01, -5.66014952e-01,\n",
       "        -6.43370977e-01, -5.01018769e-01,  3.37928688e-01,\n",
       "         6.61444699e-01, -4.76176067e-01, -5.05678394e-01,\n",
       "         3.76396595e-01,  4.96134802e-01, -4.18429988e-01,\n",
       "        -6.04535998e-01, -5.16978933e-01,  4.12552680e-01,\n",
       "         6.11240882e-01,  3.88613230e-01,  5.52624376e-01,\n",
       "        -4.16835836e-01,  5.07556807e-01,  4.29504682e-01,\n",
       "         3.87705217e-01, -5.61149555e-01, -4.93527471e-01,\n",
       "         5.18162261e-01,  5.10351347e-01,  5.20468385e-01,\n",
       "        -3.54608286e-01,  4.16979684e-01, -4.50013157e-01,\n",
       "        -5.13575192e-01, -4.54864952e-01,  5.50954421e-01,\n",
       "         5.41561004e-01, -5.13840538e-01, -4.18041072e-01,\n",
       "        -4.50781244e-01, -5.56673565e-01,  4.43608389e-01,\n",
       "         3.55111340e-01, -5.69566344e-01, -5.14521814e-01,\n",
       "        -6.07006063e-01,  4.46306494e-01, -5.61685659e-01,\n",
       "         3.77742256e-01, -4.15426768e-01, -5.25732110e-01,\n",
       "         4.32870810e-01,  5.08379742e-01, -3.45450043e-01,\n",
       "        -4.32544798e-01,  4.08917175e-01,  4.36939604e-01,\n",
       "        -4.05681643e-01, -4.51305261e-01,  7.32710327e-01,\n",
       "        -4.08413195e-01,  5.08360806e-01, -5.24480093e-01,\n",
       "        -5.30823397e-01,  3.86504680e-01,  6.67143874e-01,\n",
       "         4.14124659e-01,  5.02437839e-01,  4.87530705e-01,\n",
       "         3.80096293e-01,  5.39875079e-01,  4.17703875e-01,\n",
       "        -6.03931245e-01,  4.21159717e-01, -6.21439738e-01,\n",
       "        -5.10015023e-01,  5.03552636e-01,  3.65055779e-01,\n",
       "        -5.60727279e-01, -5.06855181e-01, -4.64099279e-01,\n",
       "         6.10121403e-01,  5.95115614e-01,  5.56222916e-01,\n",
       "        -4.95475993e-01, -5.45291428e-01, -3.43425364e-01,\n",
       "         4.47241601e-01,  4.37456772e-01,  5.88590592e-01,\n",
       "        -5.60726039e-01, -5.56319333e-01,  5.70060611e-01,\n",
       "         4.19785014e-01,  6.10408821e-01, -4.49365156e-01,\n",
       "         3.38942999e-01, -5.66759780e-01, -4.97253210e-01,\n",
       "         4.50236023e-01, -6.39046091e-01,  4.14038315e-01,\n",
       "        -5.20648486e-01,  4.03722122e-01,  4.21907050e-01,\n",
       "         4.65107160e-01,  3.76963772e-01, -5.60568648e-01,\n",
       "        -4.74204335e-01, -6.63360807e-01,  4.44128958e-01,\n",
       "         4.33958492e-01,  3.98120970e-01,  3.78873112e-01,\n",
       "        -6.33115554e-01,  4.77679119e-01,  3.91052786e-01,\n",
       "         5.03083721e-01,  4.82114662e-01, -6.36195775e-01,\n",
       "        -5.44984804e-01, -5.31042126e-01, -5.76946365e-01,\n",
       "         4.57023358e-01, -3.26983948e-01,  6.07183514e-01,\n",
       "         4.84212661e-01, -5.00751118e-01, -5.72752899e-01,\n",
       "        -5.08115444e-01, -4.70277524e-01, -5.05701155e-01,\n",
       "         4.01201117e-01, -4.96028365e-01, -5.16156533e-01,\n",
       "         4.86105617e-01, -5.54778505e-01,  4.50955531e-01,\n",
       "         5.52202991e-01,  4.89617378e-01, -5.85926675e-01,\n",
       "        -3.77315122e-01, -5.80853206e-01, -5.17462308e-01,\n",
       "        -4.75021211e-01, -2.52454054e-01, -4.73419171e-01,\n",
       "         3.83235839e-01,  4.49643406e-01,  6.06403616e-01,\n",
       "         4.93841661e-01,  4.90426441e-01,  4.94600678e-01,\n",
       "         3.76490122e-01,  2.98308959e-01, -3.48273541e-01,\n",
       "        -6.18923918e-01,  4.91857190e-01,  4.04868573e-01,\n",
       "         5.20335089e-01, -5.74021993e-01],\n",
       "       [-5.48756100e-01, -4.56031780e-01, -4.55002108e-01,\n",
       "        -5.10431883e-01, -4.27712301e-01, -5.22283997e-01,\n",
       "        -4.72858193e-01, -4.66893625e-01, -4.54288315e-01,\n",
       "         5.33822125e-01, -4.52545515e-01,  4.74325721e-01,\n",
       "        -4.64535876e-01, -4.03640596e-01, -4.69694806e-01,\n",
       "         4.40881260e-01,  5.86704653e-01, -5.09274619e-01,\n",
       "        -5.00318730e-01,  4.68126489e-01,  5.60907552e-01,\n",
       "        -4.52216356e-01,  5.37665909e-01, -4.51746676e-01,\n",
       "        -4.87055021e-01,  4.62888033e-01, -5.38086077e-01,\n",
       "         5.29262484e-01,  5.27984426e-01, -4.61568412e-01,\n",
       "         4.69689394e-01, -4.47960868e-01,  5.48282120e-01,\n",
       "         5.29735188e-01, -4.67430773e-01,  5.21172767e-01,\n",
       "         4.70811691e-01,  5.27983977e-01,  5.09861632e-01,\n",
       "        -5.38978047e-01, -4.27586505e-01,  5.22330067e-01,\n",
       "         5.25948061e-01, -5.24645826e-01,  5.30184027e-01,\n",
       "         5.62491551e-01, -5.17514654e-01, -4.14559576e-01,\n",
       "        -5.31360298e-01, -4.91966901e-01, -4.79197140e-01,\n",
       "         5.60427667e-01,  5.67767134e-01,  4.55294707e-01,\n",
       "         5.43017405e-01, -4.93876350e-01,  5.33805383e-01,\n",
       "        -5.19849409e-01,  5.47205365e-01, -5.28268591e-01,\n",
       "         5.23574648e-01,  4.55371337e-01,  5.79654101e-01,\n",
       "         5.41481009e-01, -4.73226724e-01,  5.59801521e-01,\n",
       "        -5.35891354e-01,  4.64013075e-01, -4.69139924e-01,\n",
       "         4.41710919e-01, -4.57196692e-01, -5.14537091e-01,\n",
       "        -5.19117096e-01,  5.09158015e-01,  4.66247756e-01,\n",
       "         5.00500770e-01, -5.18789099e-01,  4.58908870e-01,\n",
       "        -5.52308853e-01,  5.18581485e-01, -4.76472767e-01,\n",
       "        -4.44012103e-01, -4.80766439e-01,  4.84761965e-01,\n",
       "        -4.51957921e-01, -4.78401860e-01, -4.68075063e-01,\n",
       "        -4.14423681e-01,  4.78766720e-01,  5.28484843e-01,\n",
       "        -4.50922669e-01,  4.86196453e-01, -5.38599022e-01,\n",
       "         5.31498409e-01, -4.39337374e-01,  5.23066680e-01,\n",
       "        -4.40481928e-01, -4.85121239e-01,  4.38612926e-01,\n",
       "         4.38534629e-01,  4.68044411e-01, -5.02002752e-01,\n",
       "        -4.89661804e-01, -4.59858589e-01,  4.45009174e-01,\n",
       "         5.25844329e-01, -5.26468461e-01, -4.68067374e-01,\n",
       "         5.47881425e-01, -5.26232330e-01, -4.93532920e-01,\n",
       "         5.26337534e-01,  5.21917013e-01,  5.81217782e-01,\n",
       "         4.73363353e-01, -4.95338851e-01,  5.60906038e-01,\n",
       "        -4.88083614e-01,  4.73546872e-01, -4.75505150e-01,\n",
       "        -5.20118993e-01,  4.35340433e-01, -5.06953779e-01,\n",
       "        -4.98097136e-01,  5.13289129e-01,  4.43054492e-01,\n",
       "        -4.65734316e-01,  4.99762978e-01,  5.36637965e-01,\n",
       "        -5.02605939e-01, -4.33811025e-01,  5.46496004e-01,\n",
       "         5.47388977e-01, -5.27392253e-01, -5.10617052e-01,\n",
       "         5.96181102e-01, -4.82066498e-01, -5.21304058e-01,\n",
       "         5.06801873e-01, -4.32136784e-01,  5.04698172e-01,\n",
       "         5.75150989e-01,  5.25101448e-01,  5.49748360e-01,\n",
       "        -5.15500579e-01, -4.50379720e-01,  5.27822205e-01,\n",
       "         4.61277912e-01,  5.75724933e-01, -5.02542312e-01,\n",
       "         5.03857913e-01, -4.60031774e-01,  5.38539796e-01,\n",
       "         5.94417272e-01,  5.23163518e-01, -4.51290819e-01,\n",
       "         4.68267006e-01, -4.47870793e-01, -4.28943251e-01,\n",
       "         5.21719006e-01, -5.07488614e-01,  5.21885513e-01,\n",
       "         5.13459906e-01,  4.45991540e-01,  4.36646677e-01,\n",
       "        -4.75188550e-01, -4.36471771e-01, -4.56716528e-01,\n",
       "         5.51023636e-01, -5.49671190e-01, -5.12188098e-01,\n",
       "         5.40911734e-01,  5.07263775e-01,  5.33209979e-01,\n",
       "         4.88951289e-01, -4.49896771e-01,  5.01325671e-01,\n",
       "        -5.23121770e-01, -4.95067848e-01, -4.38008000e-01,\n",
       "         4.49929860e-01, -4.52744278e-01,  4.95144093e-01,\n",
       "         4.79465209e-01, -5.62489841e-01,  5.38985202e-01,\n",
       "        -4.55773332e-01, -5.00326024e-01,  5.25628493e-01,\n",
       "         5.28561222e-01, -4.82078182e-01, -5.45789199e-01,\n",
       "        -4.08925013e-01, -4.05627227e-01, -5.07620094e-01,\n",
       "        -4.35117653e-01, -5.15447256e-01, -4.67894338e-01,\n",
       "         4.74483651e-01,  5.33835537e-01]])"
      ]
     },
     "execution_count": 30,
     "metadata": {},
     "output_type": "execute_result"
    }
   ],
   "source": [
    "project_date = evec.T.dot(scaled_Date.T)\n",
    "project_date"
   ]
  },
  {
   "cell_type": "code",
   "execution_count": 31,
   "metadata": {},
   "outputs": [],
   "source": [
    "from sklearn.preprocessing import StandardScaler\n",
    "sc = StandardScaler()\n",
    "df_stand = sc.fit_transform(df)"
   ]
  },
  {
   "cell_type": "code",
   "execution_count": 32,
   "metadata": {},
   "outputs": [],
   "source": [
    "from sklearn.decomposition import PCA\n",
    "pca = PCA(n_components=2)\n",
    "pca_data = pca.fit_transform(df_stand)"
   ]
  },
  {
   "cell_type": "code",
   "execution_count": 33,
   "metadata": {},
   "outputs": [
    {
     "data": {
      "text/plain": [
       "array([0.25281795, 0.20698312])"
      ]
     },
     "execution_count": 33,
     "metadata": {},
     "output_type": "execute_result"
    }
   ],
   "source": [
    "pca.explained_variance_ratio_"
   ]
  },
  {
   "cell_type": "code",
   "execution_count": 34,
   "metadata": {},
   "outputs": [
    {
     "data": {
      "text/plain": [
       "<matplotlib.collections.PathCollection at 0x24aa9bfae90>"
      ]
     },
     "execution_count": 34,
     "metadata": {},
     "output_type": "execute_result"
    },
    {
     "data": {
      "image/png": "[encoded data removed]",
      "text/plain": [
       "<Figure size 640x480 with 1 Axes>"
      ]
     },
     "metadata": {},
     "output_type": "display_data"
    }
   ],
   "source": [
    "plt.scatter(pca_data[:,0],pca_data[:,1],c=y,cmap='rainbow')"
   ]
  }
 ],
 "metadata": {
  "kernelspec": {
   "display_name": "Python 3",
   "language": "python",
   "name": "python3"
  },
  "language_info": {
   "codemirror_mode": {
    "name": "ipython",
    "version": 3
   },
   "file_extension": ".py",
   "mimetype": "text/x-python",
   "name": "python",
   "nbconvert_exporter": "python",
   "pygments_lexer": "ipython3",
   "version": "3.11.4"
  },
  "orig_nbformat": 4
 },
 "nbformat": 4,
 "nbformat_minor": 2
}
